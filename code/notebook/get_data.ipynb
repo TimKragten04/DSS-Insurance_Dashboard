{
 "cells": [
  {
   "cell_type": "markdown",
   "metadata": {},
   "source": [
    "# Retrieving the data\n",
    "\n",
    "In order to estimate home-insurance premium for different regions in the country, a variety of datasets will be used. These datasets are retrieved from two sources, namely the police and the CBS (Central Bureau of Statistics). This document will contain all functionalities for retrieving the desired data and temporarily storing it, such that it can be cleaned, analyzed and displayed on the dashboard later."
   ]
  },
  {
   "cell_type": "markdown",
   "metadata": {},
   "source": [
    "## Funstionality setup\n",
    "\n",
    "This section contains global variables and helper functions that aid the retrieving and storing of the data."
   ]
  },
  {
   "cell_type": "code",
   "execution_count": null,
   "metadata": {},
   "outputs": [],
   "source": [
    "# Importing the required dependencies\n",
    "import requests\n",
    "import pandas as pd\n",
    "import cbsodata\n",
    "from datetime import datetime"
   ]
  },
  {
   "cell_type": "code",
   "execution_count": 17,
   "metadata": {},
   "outputs": [],
   "source": [
    "# Path where all the datasets will be stored\n",
    "data_path: str = r\"../data\"\n",
    "\n",
    "\n",
    "def dataframe_to_csv(df: pd.DataFrame, save_folder: str, file_name: str) -> None:\n",
    "    \"\"\" Converts a DataFrame to a csv file and saves it at a specific location\n",
    "\n",
    "    Args:\n",
    "        df (pd.DataFrame): DataFrame to be converted to CSV\n",
    "        save_folder (str): The folder in which the file needs to be saved\n",
    "        file_name (str): The actual name of the file\n",
    "    \"\"\"\n",
    "    df.to_csv(f\"{save_folder}/{file_name}.csv\", \",\", index=False, encoding=\"utf-8\")"
   ]
  },
  {
   "cell_type": "markdown",
   "metadata": {},
   "source": [
    "## Dynamic data from the police\n",
    "\n",
    "The dutch police department has provided API access to a database that contains information ranging from missing persons and police stations to patrol agents and general news articles. This data is updated in daily, which is why it is used in this project to satisfy the dynamic dataset requirement."
   ]
  },
  {
   "cell_type": "code",
   "execution_count": 11,
   "metadata": {},
   "outputs": [],
   "source": [
    "def get_police_data(target_url: str, max_requests: int = 10, parameters: dict[str, str] = {}) -> pd.DataFrame:\n",
    "    \"\"\" Gets the data from the police API back in a dataframe. Since the API is limited to only returning 25 records,\n",
    "    the API gets queried for a specified numer of times. While making the API call, it is possible to add additional parameters\n",
    "\n",
    "    Args:\n",
    "        target_url (str): The url for the specific data that you want to retrieve from the police\n",
    "        max_requests (int, optional): Maximum number of requests made to the police API. Defaults to 10\n",
    "        parameters (dict[str, str], optional): Additional parameters that can be added to the API request. Defaults to {}.\n",
    "\n",
    "    Returns:\n",
    "        pd.DataFrame: DataFrame containing the desired data\n",
    "    \"\"\"\n",
    "    df: pd.DataFrame = pd.DataFrame()\n",
    "    request_index: int = 1\n",
    "\n",
    "    # Adding the parameters to the target url\n",
    "    if parameters != {}:\n",
    "        target_url = f\"{target_url}?\"\n",
    "\n",
    "        for parameter, value in parameters.items():\n",
    "            if value != None:\n",
    "                target_url = f\"{target_url}{parameter}={value}&\"\n",
    "\n",
    "    base_url: str = target_url\n",
    "\n",
    "    # Making the requests\n",
    "    while request_index <= max_requests:\n",
    "        print(f\"Starting request {str(request_index)}/{str(max_requests)}...\")\n",
    "        # Calculate the offset\n",
    "        offset: int = (request_index - 1) * 25\n",
    "        \n",
    "        if parameter != {}:\n",
    "            target_url = f\"{base_url}offset={offset}\"\n",
    "        else:\n",
    "            target_url = f\"{base_url}&offset={offset}\"\n",
    "\n",
    "        r = requests.get(target_url).json()\n",
    "        df = pd.concat([df, pd.DataFrame(r[\"opsporingsberichten\"])], ignore_index=True)\n",
    "\n",
    "        request_index = request_index + 1\n",
    "\n",
    "    print(\"Finished requests\")\n",
    "\n",
    "    return df"
   ]
  },
  {
   "cell_type": "code",
   "execution_count": 18,
   "metadata": {},
   "outputs": [
    {
     "name": "stdout",
     "output_type": "stream",
     "text": [
      "Starting request 1/3...\n",
      "Starting request 2/3...\n",
      "Starting request 3/3...\n",
      "Finished requests\n"
     ]
    }
   ],
   "source": [
    "police_url: str = \"https://api.politie.nl/v4/gezocht\"\n",
    "\n",
    "wanted_persons_parameters: dict[str, str] = {\n",
    "    \"uid\": None,\n",
    "    \"language\": \"nl\",\n",
    "    \"query\": None,\n",
    "    \"lat\": None,\n",
    "    \"lon\": None,\n",
    "    \"radius\": None,\n",
    "    \"maxnumberofitems\": \"25\"\n",
    "}\n",
    "\n",
    "police_datadata = get_police_data(police_url, 3, wanted_persons_parameters)\n",
    "dataframe_to_csv(police_datadata, data_path, \"wanted_persons\")"
   ]
  },
  {
   "cell_type": "markdown",
   "metadata": {},
   "source": [
    "## Data from CBS\n",
    "\n",
    "The Central Bureau for Statistics in the Netherlands provides all Dutch citizens with free datasets that can be analyzed. The datasets that are provided have all sorts of topics. In the report we provide a justification which dataset is used and why."
   ]
  },
  {
   "cell_type": "code",
   "execution_count": 7,
   "metadata": {},
   "outputs": [],
   "source": [
    "# 70072ned: Regional metrics of all of the netherlands. Big dataset with a lot of information. Based on municipality\n",
    "cbs_datasets: dict[str, str] = {\n",
    "    \"income_ineqaulity\": \"71511NED\"\n",
    "}\n",
    "\n",
    "\n",
    "for dataset, identifier in cbs_datasets.items():\n",
    "    data = pd.DataFrame(cbsodata.get_data(identifier, dir=f\"../data/{dataset}\"))\n",
    "    data.head()"
   ]
  },
  {
   "cell_type": "code",
   "execution_count": 6,
   "metadata": {},
   "outputs": [
    {
     "data": {
      "text/html": [
       "<div>\n",
       "<style scoped>\n",
       "    .dataframe tbody tr th:only-of-type {\n",
       "        vertical-align: middle;\n",
       "    }\n",
       "\n",
       "    .dataframe tbody tr th {\n",
       "        vertical-align: top;\n",
       "    }\n",
       "\n",
       "    .dataframe thead th {\n",
       "        text-align: right;\n",
       "    }\n",
       "</style>\n",
       "<table border=\"1\" class=\"dataframe\">\n",
       "  <thead>\n",
       "    <tr style=\"text-align: right;\">\n",
       "      <th></th>\n",
       "      <th>ID</th>\n",
       "      <th>RegioS</th>\n",
       "      <th>Perioden</th>\n",
       "      <th>PersonenMetUitgesprokenSchuldsanering_1</th>\n",
       "    </tr>\n",
       "  </thead>\n",
       "  <tbody>\n",
       "    <tr>\n",
       "      <th>0</th>\n",
       "      <td>0</td>\n",
       "      <td>Nederland</td>\n",
       "      <td>1999</td>\n",
       "      <td>6220.0</td>\n",
       "    </tr>\n",
       "    <tr>\n",
       "      <th>1</th>\n",
       "      <td>1</td>\n",
       "      <td>Nederland</td>\n",
       "      <td>2000</td>\n",
       "      <td>13930.0</td>\n",
       "    </tr>\n",
       "    <tr>\n",
       "      <th>2</th>\n",
       "      <td>2</td>\n",
       "      <td>Nederland</td>\n",
       "      <td>2001</td>\n",
       "      <td>20465.0</td>\n",
       "    </tr>\n",
       "    <tr>\n",
       "      <th>3</th>\n",
       "      <td>3</td>\n",
       "      <td>Nederland</td>\n",
       "      <td>2002</td>\n",
       "      <td>25560.0</td>\n",
       "    </tr>\n",
       "    <tr>\n",
       "      <th>4</th>\n",
       "      <td>4</td>\n",
       "      <td>Nederland</td>\n",
       "      <td>2003</td>\n",
       "      <td>28150.0</td>\n",
       "    </tr>\n",
       "  </tbody>\n",
       "</table>\n",
       "</div>"
      ],
      "text/plain": [
       "   ID     RegioS Perioden  PersonenMetUitgesprokenSchuldsanering_1\n",
       "0   0  Nederland     1999                                   6220.0\n",
       "1   1  Nederland     2000                                  13930.0\n",
       "2   2  Nederland     2001                                  20465.0\n",
       "3   3  Nederland     2002                                  25560.0\n",
       "4   4  Nederland     2003                                  28150.0"
      ]
     },
     "execution_count": 6,
     "metadata": {},
     "output_type": "execute_result"
    }
   ],
   "source": [
    "def test_functie():\n",
    "    pass"
   ]
  }
 ],
 "metadata": {
  "kernelspec": {
   "display_name": "Python 3 (ipykernel)",
   "language": "python",
   "name": "python3"
  },
  "language_info": {
   "codemirror_mode": {
    "name": "ipython",
    "version": 3
   },
   "file_extension": ".py",
   "mimetype": "text/x-python",
   "name": "python",
   "nbconvert_exporter": "python",
   "pygments_lexer": "ipython3",
   "version": "3.11.5"
  }
 },
 "nbformat": 4,
 "nbformat_minor": 2
}
