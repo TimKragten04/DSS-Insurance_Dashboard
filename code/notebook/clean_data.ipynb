{
 "cells": [
  {
   "cell_type": "code",
   "execution_count": null,
   "metadata": {},
   "outputs": [],
   "source": [
    "columns_to_drop: list[str] = [\n",
    "    \"displayName\",\n",
    "    \"links\",\n",
    "    \"availabletranslations\",\n",
    "    \"zaaknummer\",\n",
    "    \"introductie\",\n",
    "    \"omschrijving\",\n",
    "    \"meerafbeeldingen\",\n",
    "    \"urltipformulier\",\n",
    "    \"afbeeldingen\",\n",
    "    \"verdachte\",\n",
    "    \"voortvluchtige\",\n",
    "    \"dossier\"\n",
    "]"
   ]
  }
 ],
 "metadata": {
  "language_info": {
   "name": "python"
  }
 },
 "nbformat": 4,
 "nbformat_minor": 2
}
