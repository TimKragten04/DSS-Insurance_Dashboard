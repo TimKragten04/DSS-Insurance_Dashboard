{
 "cells": [
  {
   "cell_type": "code",
   "execution_count": 30,
   "id": "ef86fd05-ecbf-4283-9969-3b553f0e0acd",
   "metadata": {},
   "outputs": [],
   "source": [
    "import requests\n",
    "import pandas as pd\n",
    "\n",
    "\n",
    "def get_odata(target_url: str, max_requests: int = 100) -> pd.DataFrame:\n",
    "    \"\"\" This functions retrieves data from a given dataset from the Central Bureau of Statistics (CBS).\n",
    "    The API returns the data in a JSON format, which is converted to a pandas DataFrame.\n",
    "\n",
    "    Each data request contains a maximum of 10.000 cells, therefore in order to retrieve the whole dataset,\n",
    "    the API is constantly called. \n",
    "\n",
    "    Args:\n",
    "        target_url (str): The target url which points to a dataset\n",
    "        max_requests (int): Indicates the maximum number of requests should be made\n",
    "\n",
    "    Returns:\n",
    "        pd.DataFrame: DataFrame that contains all retrieved data from CBS\n",
    "    \"\"\"\n",
    "    # Creation of a DataFrame\n",
    "    df: pd.DataFrame = pd.DataFrame()\n",
    "    request_index: int = 1\n",
    "\n",
    "    while target_url and (request_index <= max_requests):\n",
    "        print(f\"Starting request {str(request_index)}/{str(max_requests)}...\")\n",
    "\n",
    "        r = requests.get(target_url).json()\n",
    "        df = pd.concat([df, pd.DataFrame(r['value'])], ignore_index=True)\n",
    "        \n",
    "        if '@odata.nextLink' in r:  \n",
    "            target_url = r['@odata.nextLink']\n",
    "        else:\n",
    "            target_url = None\n",
    "        \n",
    "        request_index = request_index + 1\n",
    "        \n",
    "    return df"
   ]
  },
  {
   "cell_type": "code",
   "execution_count": 38,
   "id": "7d7ce5f5",
   "metadata": {},
   "outputs": [
    {
     "name": "stdout",
     "output_type": "stream",
     "text": [
      "Starting request 1/3...\n",
      "Starting request 2/3...\n",
      "Starting request 3/3...\n"
     ]
    }
   ],
   "source": [
    "dataset_identifier: str = \"83648NED\"\n",
    "table_url:str = f\"https://odata4.cbs.nl/CBS/{dataset_identifier}\"\n",
    "target_url:str = f\"{table_url}/Observations\"\n",
    "data: pd.DataFrame = get_odata(target_url, 3)"
   ]
  },
  {
   "cell_type": "code",
   "execution_count": 37,
   "id": "165e98fd",
   "metadata": {},
   "outputs": [],
   "source": [
    "data_path: str = r\"../data\"\n",
    "\n",
    "\n",
    "def dataframe_to_csv(df: pd.DataFrame, save_path: str, file_name: str) -> None:\n",
    "    \"\"\" Converts a DataFrame to a csv file and saves it at a specific location\n",
    "\n",
    "    Args:\n",
    "        df (pd.DataFrame): DataFrame to be converted to CSV\n",
    "        save_path (str): The folder in which the file needs to be saved\n",
    "        file_name (str): The actual name of the file\n",
    "    \"\"\"\n",
    "    df.to_csv(f\"{save_path}/{file_name}\", \",\", index=False, encoding=\"utf-8\")\n",
    "\n",
    "\n",
    "dataframe_to_csv(data, data_path, \"crime_data.csv\")"
   ]
  },
  {
   "cell_type": "code",
   "execution_count": null,
   "id": "f983576c",
   "metadata": {},
   "outputs": [],
   "source": []
  }
 ],
 "metadata": {
  "kernelspec": {
   "display_name": "Python 3 (ipykernel)",
   "language": "python",
   "name": "python3"
  }
 },
 "nbformat": 4,
 "nbformat_minor": 5
}
