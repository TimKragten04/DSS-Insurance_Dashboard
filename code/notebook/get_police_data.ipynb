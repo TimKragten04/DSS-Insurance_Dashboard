{
 "cells": [
  {
   "cell_type": "markdown",
   "metadata": {},
   "source": [
    "## Get data from APIs"
   ]
  },
  {
   "cell_type": "code",
   "execution_count": 7,
   "metadata": {},
   "outputs": [],
   "source": [
    "import pandas as pd\n",
    "import requests\n",
    "import json"
   ]
  },
  {
   "cell_type": "markdown",
   "metadata": {},
   "source": [
    "### 1. /v4/gezocht\n",
    "Search APB’s. Use consecutive methods to retrieve APB’s of a specialized type. Results are sorted on\n",
    "descending date (newest first)."
   ]
  },
  {
   "cell_type": "code",
   "execution_count": 11,
   "metadata": {},
   "outputs": [],
   "source": [
    "base_url = \"https://api.politie.nl/v4/\"\n",
    "# The url filed list, you can pull more data according to this list\n",
    "field_list ={\n",
    "    \"gezocht\": \"opsporingsberichten\", \n",
    "    \"politiebureaus/all\": \"politiebureaus\", \n",
    "    \"gezocht/gezochtepersonen\" : \"opsporingsberichten\", \n",
    "    \"gezocht/nationaleopsporingslijst\" : \"opsporingsberichten\",\n",
    "    \"gezocht/eigenaargezocht\": \"opsporingsberichten\",\n",
    "    \"gezocht/dossiers\": \"opsporingsberichten\",\n",
    "    \"vermist\" :'vermisten',\n",
    "    \"vermist/vermistevolwassenen\":\"vermisten\",\n",
    "    \"vermist/vermistekinderen\":\"vermisten\"\n",
    "}\n",
    "\n",
    "def get_data(target,target_field,limit=10):\n",
    "    '''\n",
    "    Retrive the data from a paginated API. \n",
    "    Args:\n",
    "        target (str): The target URL field.\n",
    "        target_field (str): The information field of the target URL.\n",
    "        limit (int, optional): The maximum number of records to retrieve per request (default is 10).\n",
    "    \n",
    "    Returns:\n",
    "        pandas.DataFrame: A DataFrame containing the retrieved data.\n",
    "    '''\n",
    "    offset = 0\n",
    "    data_frames = []\n",
    "    while True:\n",
    "        response = requests.get(base_url + str(target),params={ \"offset\": offset})\n",
    "        \n",
    "        if response.status_code == 200:\n",
    "            data = response.json()\n",
    "            d = pd.DataFrame(data.get(str(target_field), []))  #\n",
    "            data_frames.append(d)\n",
    "            offset += limit\n",
    "        elif response.status_code == 204:\n",
    "            print(\"No results found.\")\n",
    "            break\n",
    "        else:\n",
    "            print(\"Error:\", response.status_code)\n",
    "            break\n",
    "    return pd.concat(data_frames, ignore_index=True)\n",
    "\n",
    "def save_data(target,field):\n",
    "    '''\n",
    "    Save data to a CSV file.\n",
    "    Args:\n",
    "        data (pandas.DataFrame): The DataFrame to be saved.\n",
    "        field (str): The name of the field used to construct the CSV file name.\n",
    "    Returns:\n",
    "        None\n",
    "    '''\n",
    "    csv_filename = f\"../data/daily_updated/{field}_10_6.csv\"\n",
    "    target.to_csv(csv_filename, index=False)\n",
    "    return"
   ]
  },
  {
   "cell_type": "code",
   "execution_count": 13,
   "metadata": {},
   "outputs": [
    {
     "name": "stdout",
     "output_type": "stream",
     "text": [
      "No results found.\n",
      "No results found.\n",
      "No results found.\n",
      "No results found.\n"
     ]
    }
   ],
   "source": [
    "fugitives = get_data(\"gezocht\",\"opsporingsberichten\")\n",
    "save_data(fugitives,\"1_fugitives\")\n",
    "\n",
    "police_stations = get_data(\"politiebureaus/all\",\"politiebureaus\",100)\n",
    "save_data(police_stations,\"4_police_stations\")\n",
    "\n",
    "missing_person = get_data(\"vermist\",\"vermisten\")\n",
    "save_data(missing_person,\"11_missing_person\")\n",
    "\n",
    "most_wanted = get_data(\"gezocht/nationaleopsporingslijst\",\"opsporingsberichten\")\n",
    "save_data(most_wanted, \"8_most_wanted\")"
   ]
  },
  {
   "cell_type": "code",
   "execution_count": 14,
   "metadata": {},
   "outputs": [
    {
     "name": "stdout",
     "output_type": "stream",
     "text": [
      "No results found.\n"
     ]
    }
   ],
   "source": [
    "unidentified_person = get_data(\"vermist/ongeidentificeerd\",\"ongeidentificeerden\")\n",
    "save_data(unidentified_person,\"14_unifentified_person\")"
   ]
  }
 ],
 "metadata": {
  "kernelspec": {
   "display_name": "venv",
   "language": "python",
   "name": "python3"
  },
  "language_info": {
   "codemirror_mode": {
    "name": "ipython",
    "version": 3
   },
   "file_extension": ".py",
   "mimetype": "text/x-python",
   "name": "python",
   "nbconvert_exporter": "python",
   "pygments_lexer": "ipython3",
   "version": "3.10.9"
  }
 },
 "nbformat": 4,
 "nbformat_minor": 2
}
