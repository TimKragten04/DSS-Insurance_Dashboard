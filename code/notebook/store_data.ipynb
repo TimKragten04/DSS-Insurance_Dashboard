{
 "cells": [
  {
   "cell_type": "code",
   "execution_count": 8,
   "metadata": {},
   "outputs": [],
   "source": [
    "import sqlalchemy as sa\n",
    "import pandas as pd\n",
    "import os\n",
    "from typing import Any"
   ]
  },
  {
   "cell_type": "code",
   "execution_count": 9,
   "metadata": {},
   "outputs": [],
   "source": [
    "income_inequality_dataset: str = \"./income_inequality_cleaned.csv\"\n",
    "port: str = \"5432\""
   ]
  },
  {
   "cell_type": "code",
   "execution_count": 10,
   "metadata": {},
   "outputs": [
    {
     "name": "stdout",
     "output_type": "stream",
     "text": [
      "                dataset  time_period region_name   region_type region_code  \\\n",
      "0     income_inequality         2011   Nederland       Country        NL01   \n",
      "1     income_inequality         2012   Nederland       Country        NL01   \n",
      "2     income_inequality         2013   Nederland       Country        NL01   \n",
      "3     income_inequality         2014   Nederland       Country        NL01   \n",
      "4     income_inequality         2015   Nederland       Country        NL01   \n",
      "...                 ...          ...         ...           ...         ...   \n",
      "3933  income_inequality         2017      Zwolle  Municipality      GM0193   \n",
      "3934  income_inequality         2018      Zwolle  Municipality      GM0193   \n",
      "3935  income_inequality         2019      Zwolle  Municipality      GM0193   \n",
      "3936  income_inequality         2020      Zwolle  Municipality      GM0193   \n",
      "3937  income_inequality         2021      Zwolle  Municipality      GM0193   \n",
      "\n",
      "             population  private_houshold_amount  average_standardized_income  \\\n",
      "0     Private housholds                7347500.0                      25600.0   \n",
      "1     Private housholds                7412100.0                      25800.0   \n",
      "2     Private housholds                7467800.0                      25900.0   \n",
      "3     Private housholds                7496400.0                      27300.0   \n",
      "4     Private housholds                7568500.0                      27100.0   \n",
      "...                 ...                      ...                          ...   \n",
      "3933  Private housholds                  57700.0                      27800.0   \n",
      "3934  Private housholds                  58300.0                      28100.0   \n",
      "3935  Private housholds                  59000.0                      30000.0   \n",
      "3936  Private housholds                  59800.0                      30900.0   \n",
      "3937  Private housholds                  60500.0                      32200.0   \n",
      "\n",
      "      median_standardized_income  inequality_income  \n",
      "0                        22800.0             2800.0  \n",
      "1                        23000.0             2800.0  \n",
      "2                        23200.0             2700.0  \n",
      "3                        23900.0             3400.0  \n",
      "4                        24300.0             2800.0  \n",
      "...                          ...                ...  \n",
      "3933                     25400.0             2400.0  \n",
      "3934                     25800.0             2300.0  \n",
      "3935                     27200.0             2800.0  \n",
      "3936                     28400.0             2500.0  \n",
      "3937                     29600.0             2600.0  \n",
      "\n",
      "[3938 rows x 10 columns]\n"
     ]
    }
   ],
   "source": [
    "income_inequality_df: pd.DataFrame = pd.read_csv(income_inequality_dataset)\n",
    "\n",
    "print(income_inequality_df)"
   ]
  },
  {
   "cell_type": "code",
   "execution_count": 7,
   "metadata": {},
   "outputs": [
    {
     "data": {
      "text/plain": [
       "938"
      ]
     },
     "execution_count": 7,
     "metadata": {},
     "output_type": "execute_result"
    }
   ],
   "source": [
    "engine: sa.Engine = sa.create_engine(f\"postgresql://student:infomdss@db_dashboard:{port}/dashboard\")\n",
    "\n",
    "with engine.connect() as connection:\n",
    "    result: sa.CursorResult[Any] = connection.execute(sa.text(\"DROP TABLE IF EXISTS income_inequality CASCADE;\"))\n",
    "\n",
    "income_inequality_df.to_sql(\"income_inequality\", engine, if_exists=\"replace\", index=True)"
   ]
  },
  {
   "cell_type": "code",
   "execution_count": null,
   "metadata": {},
   "outputs": [],
   "source": []
  }
 ],
 "metadata": {
  "kernelspec": {
   "display_name": "Python 3 (ipykernel)",
   "language": "python",
   "name": "python3"
  },
  "language_info": {
   "codemirror_mode": {
    "name": "ipython",
    "version": 3
   },
   "file_extension": ".py",
   "mimetype": "text/x-python",
   "name": "python",
   "nbconvert_exporter": "python",
   "pygments_lexer": "ipython3",
   "version": "3.11.6"
  }
 },
 "nbformat": 4,
 "nbformat_minor": 2
}
